{
 "cells": [
  {
   "cell_type": "code",
   "execution_count": null,
   "id": "4339fc36",
   "metadata": {},
   "outputs": [],
   "source": []
  },
  {
   "cell_type": "code",
   "execution_count": 1,
   "id": "86dcffc6",
   "metadata": {},
   "outputs": [
    {
     "ename": "ModuleNotFoundError",
     "evalue": "No module named 'sp'",
     "output_type": "error",
     "traceback": [
      "\u001b[1;31m---------------------------------------------------------------------------\u001b[0m",
      "\u001b[1;31mModuleNotFoundError\u001b[0m                       Traceback (most recent call last)",
      "Input \u001b[1;32mIn [1]\u001b[0m, in \u001b[0;36m<cell line: 1>\u001b[1;34m()\u001b[0m\n\u001b[1;32m----> 1\u001b[0m \u001b[38;5;28;01mimport\u001b[39;00m \u001b[38;5;21;01msp\u001b[39;00m\n\u001b[0;32m      2\u001b[0m \u001b[38;5;28;01mfrom\u001b[39;00m \u001b[38;5;21;01msp\u001b[39;00m\u001b[38;5;21;01m.\u001b[39;00m\u001b[38;5;21;01mabc\u001b[39;00m \u001b[38;5;28;01mimport\u001b[39;00m a,b,c,m,x,y\n\u001b[0;32m      3\u001b[0m \u001b[38;5;28;01mfrom\u001b[39;00m \u001b[38;5;21;01msp\u001b[39;00m \u001b[38;5;28;01mimport\u001b[39;00m Eq\n",
      "\u001b[1;31mModuleNotFoundError\u001b[0m: No module named 'sp'"
     ]
    }
   ],
   "source": [
    "\n",
    "\n",
    "import sp\n",
    "from sp.abc import a,b,c,m,x,y\n",
    "from sp import Eq\n",
    "\n",
    "sp.init_printing()\n",
    "\n",
    "#x**2/a**2 + y**2/b**2 == 1\n",
    "\n",
    "A=sp.solve([\n",
    "    x-(m*y+a),\n",
    "    x**2/a**2 + y**2/b**2- 1,\n",
    "],x,y)\n",
    "A.remove((a,0))\n",
    "A=sp.Point(*A[0])\n",
    "print(A)\n",
    "\n",
    "B=sp.solve([\n",
    "    x-((-1/m)*y+a),\n",
    "    x**2/a**2 + y**2/b**2- 1,\n",
    "],x,y)\n",
    "B.remove((a,0))\n",
    "B=sp.Point(*B[0])\n",
    "print(B)\n",
    "\n",
    "print()\n",
    "AB=sp.Line(A,B).simplify()\n",
    "#for i in dir(AB): print(i)\n",
    "print(AB.slope)\n",
    "print(sp.solve(\n",
    "    [AB.equation(), x-0]))\n",
    "\n",
    "\n"
   ]
  }
 ],
 "metadata": {
  "kernelspec": {
   "display_name": "Python 3 (ipykernel)",
   "language": "python",
   "name": "python3"
  },
  "language_info": {
   "codemirror_mode": {
    "name": "ipython",
    "version": 3
   },
   "file_extension": ".py",
   "mimetype": "text/x-python",
   "name": "python",
   "nbconvert_exporter": "python",
   "pygments_lexer": "ipython3",
   "version": "3.8.2"
  }
 },
 "nbformat": 4,
 "nbformat_minor": 5
}
